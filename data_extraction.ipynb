{
  "nbformat": 4,
  "nbformat_minor": 0,
  "metadata": {
    "colab": {
      "provenance": [],
      "collapsed_sections": [
        "-QF3SEtjMDW4",
        "N-jy2jr3L-EJ",
        "kafbhK7oRIJx",
        "9Y-UpUj5X6AQ"
      ]
    },
    "kernelspec": {
      "name": "python3",
      "display_name": "Python 3"
    },
    "language_info": {
      "name": "python"
    }
  },
  "cells": [
    {
      "cell_type": "markdown",
      "source": [
        "# Inicializando o Código"
      ],
      "metadata": {
        "id": "KJ2faIELX_Rw"
      }
    },
    {
      "cell_type": "code",
      "execution_count": null,
      "metadata": {
        "colab": {
          "base_uri": "https://localhost:8080/"
        },
        "id": "Z-hPH4JqKb7E",
        "outputId": "0a0db05d-82c2-45a6-a10f-ec4f081644c3"
      },
      "outputs": [
        {
          "output_type": "stream",
          "name": "stdout",
          "text": [
            "Drive already mounted at /content/drive; to attempt to forcibly remount, call drive.mount(\"/content/drive\", force_remount=True).\n"
          ]
        }
      ],
      "source": [
        "from google.colab import drive\n",
        "drive.mount('/content/drive')"
      ]
    },
    {
      "cell_type": "code",
      "source": [
        "import pandas as pd\n",
        "import numpy as np\n",
        "import re"
      ],
      "metadata": {
        "id": "lTmQoxOeLCTG"
      },
      "execution_count": null,
      "outputs": []
    },
    {
      "cell_type": "code",
      "source": [
        "aportes_2021_1_semestre_tabelas_desagrupadas = pd.read_html('https://startuptalky.com/global-startup-funding-investors-data/')\n",
        "aportes_2021_2_semestre_tabelas_desagrupadas = pd.read_html('https://startuptalky.com/global-startups-funding-investors-data-2021/')"
      ],
      "metadata": {
        "id": "astQIELVLOge"
      },
      "execution_count": null,
      "outputs": []
    },
    {
      "cell_type": "markdown",
      "source": [
        "# Adicionando os Dados de 2021"
      ],
      "metadata": {
        "id": "-QF3SEtjMDW4"
      }
    },
    {
      "cell_type": "code",
      "source": [
        "def formattingDataFrame(dataframe):\n",
        "  pattern = re.compile(r'\\$|,')\n",
        "  find_U = re.compile(r'[Uu ]+|\"')\n",
        "  dataframe.columns = ['Empresa', 'Valor', 'Sede', 'Investidores', 'Rodada de Investimento', 'Setor', 'Sobre a Empresa']\n",
        "  dataframe['Valor'] = dataframe['Valor'].apply(lambda x: re.sub(pattern,'',x) if (type(x) == str) else np.nan)\n",
        "  dataframe['Sede (Cidade)'] = np.nan\n",
        "  dataframe['Sede (Estado-US/País)'] = np.nan\n",
        "  for i, valor in dataframe.iterrows():\n",
        "    if type(valor['Sede']) != float:\n",
        "      if len(valor['Sede'].split(', ', )) > 1:\n",
        "        splited_Sede_list = valor['Sede'].split(', ')\n",
        "        dataframe['Sede (Cidade)'][i] = splited_Sede_list[0]\n",
        "        dataframe['Sede (Estado-US/País)'][i] = ', '.join(splited_Sede_list[1:])\n",
        "      else:\n",
        "        dataframe['Sede (Estado-US/País)'][i] = valor['Sede']\n",
        "    if type(valor['Valor']) == str:\n",
        "      dataframe['Valor'][i] = re.sub(find_U, '0', valor['Valor'])\n",
        "  dataframe = dataframe.reindex(columns=['Investidores', 'Valor', 'Rodada de Investimento','Empresa', 'Sede (Cidade)', 'Sede (Estado-US/País)','Setor', 'Sobre a Empresa'])\n",
        "  dataframe = dataframe.astype({'Valor': 'float64'})\n",
        "  return dataframe"
      ],
      "metadata": {
        "id": "rVxX0ew0rjKJ"
      },
      "execution_count": null,
      "outputs": []
    },
    {
      "cell_type": "code",
      "source": [
        "meses_ano_1_semestre = pd.Series({5:'Janeiro', 4:'Fevereiro', 3: 'Março', 2:'Abril', 1:'Maio', 0:'Junho'})\n",
        "meses_ano_2_semestre = pd.Series({5:'Dezembro', 4:'Novembro', 3: 'Outubro', 2:'Setembro', 1:'Agosto', 0:'Julho'})"
      ],
      "metadata": {
        "id": "SdWQwwqKNrso"
      },
      "execution_count": null,
      "outputs": []
    },
    {
      "cell_type": "code",
      "source": [
        "aportes_2021 = pd.DataFrame([])\n",
        "table_count = 0\n",
        "\n",
        "for table in aportes_2021_2_semestre_tabelas_desagrupadas:\n",
        "  #print(table_count)\n",
        "  table = formattingDataFrame(table)\n",
        "  table['Mês'] = meses_ano_2_semestre[table_count]\n",
        "  table_count += 1\n",
        "  aportes_2021 = pd.concat([aportes_2021, table], ignore_index=True)\n"
      ],
      "metadata": {
        "id": "vfXwBnHrRnzA"
      },
      "execution_count": null,
      "outputs": []
    },
    {
      "cell_type": "code",
      "source": [
        "table_count = 0\n",
        "for table in aportes_2021_1_semestre_tabelas_desagrupadas:\n",
        " #print(table_count)\n",
        "  table = formattingDataFrame(table)\n",
        "  table['Mês'] = meses_ano_1_semestre[table_count]\n",
        "  aportes_2021 = pd.concat([table, aportes_2021])\n",
        "  table_count += 1\n"
      ],
      "metadata": {
        "id": "YcBrYB4nc9kQ"
      },
      "execution_count": null,
      "outputs": []
    },
    {
      "cell_type": "code",
      "source": [
        "aportes_2021['Ano'] = 2021"
      ],
      "metadata": {
        "id": "Ze2_Xb_YOCwB"
      },
      "execution_count": null,
      "outputs": []
    },
    {
      "cell_type": "markdown",
      "source": [
        "# Adicionando os Dados de 2020"
      ],
      "metadata": {
        "id": "N-jy2jr3L-EJ"
      }
    },
    {
      "cell_type": "code",
      "source": [
        "aportes_2020_tabelas_desagrupadas = pd.read_html('https://startuptalky.com/global-startups-funding-investors-data-2020/')\n",
        "months_2020 = pd.Series({0:'Dezembro', 1:'Novembro', 2:'Outubro', 3:'Setembro', 4:'Agosto', 5:'Julho', 6:'Junho', 7:'Maio', 8:'Abril', 9:'Março', 10:'Fevereiro', 11:'Janeiro'})"
      ],
      "metadata": {
        "id": "7YBNeJP_LWRA"
      },
      "execution_count": null,
      "outputs": []
    },
    {
      "cell_type": "code",
      "source": [
        "table_count = 0\n",
        "aportes_2020 = pd.DataFrame([])\n",
        "for table in aportes_2020_tabelas_desagrupadas:\n",
        "  print(table_count)\n",
        "  table = formattingDataFrame(table)\n",
        "  table['Mês'] = months_2020[table_count]\n",
        "  aportes_2020 = pd.concat([table, aportes_2020], ignore_index=True)\n",
        "  table_count +=1\n"
      ],
      "metadata": {
        "colab": {
          "base_uri": "https://localhost:8080/"
        },
        "id": "Otkf-pU8NYPg",
        "outputId": "14c4af08-0575-4be5-839f-572ddb98fd0c"
      },
      "execution_count": null,
      "outputs": [
        {
          "output_type": "stream",
          "name": "stdout",
          "text": [
            "0\n"
          ]
        },
        {
          "output_type": "stream",
          "name": "stderr",
          "text": [
            "/usr/local/lib/python3.7/dist-packages/ipykernel_launcher.py:13: SettingWithCopyWarning: \n",
            "A value is trying to be set on a copy of a slice from a DataFrame\n",
            "\n",
            "See the caveats in the documentation: https://pandas.pydata.org/pandas-docs/stable/user_guide/indexing.html#returning-a-view-versus-a-copy\n",
            "  del sys.path[0]\n",
            "/usr/local/lib/python3.7/dist-packages/pandas/core/indexing.py:1732: SettingWithCopyWarning: \n",
            "A value is trying to be set on a copy of a slice from a DataFrame\n",
            "\n",
            "See the caveats in the documentation: https://pandas.pydata.org/pandas-docs/stable/user_guide/indexing.html#returning-a-view-versus-a-copy\n",
            "  self._setitem_single_block(indexer, value, name)\n",
            "/usr/local/lib/python3.7/dist-packages/ipykernel_launcher.py:14: SettingWithCopyWarning: \n",
            "A value is trying to be set on a copy of a slice from a DataFrame\n",
            "\n",
            "See the caveats in the documentation: https://pandas.pydata.org/pandas-docs/stable/user_guide/indexing.html#returning-a-view-versus-a-copy\n",
            "  \n"
          ]
        },
        {
          "output_type": "stream",
          "name": "stdout",
          "text": [
            "1\n",
            "2\n",
            "3\n",
            "4\n",
            "5\n",
            "6\n"
          ]
        },
        {
          "output_type": "stream",
          "name": "stderr",
          "text": [
            "/usr/local/lib/python3.7/dist-packages/ipykernel_launcher.py:16: SettingWithCopyWarning: \n",
            "A value is trying to be set on a copy of a slice from a DataFrame\n",
            "\n",
            "See the caveats in the documentation: https://pandas.pydata.org/pandas-docs/stable/user_guide/indexing.html#returning-a-view-versus-a-copy\n",
            "  app.launch_new_instance()\n",
            "/usr/local/lib/python3.7/dist-packages/ipykernel_launcher.py:18: SettingWithCopyWarning: \n",
            "A value is trying to be set on a copy of a slice from a DataFrame\n",
            "\n",
            "See the caveats in the documentation: https://pandas.pydata.org/pandas-docs/stable/user_guide/indexing.html#returning-a-view-versus-a-copy\n"
          ]
        },
        {
          "output_type": "stream",
          "name": "stdout",
          "text": [
            "7\n",
            "8\n",
            "9\n",
            "10\n",
            "11\n"
          ]
        }
      ]
    },
    {
      "cell_type": "code",
      "source": [
        "aportes_2020['Ano'] = 2020"
      ],
      "metadata": {
        "id": "rjr87LVmUYXz"
      },
      "execution_count": null,
      "outputs": []
    },
    {
      "cell_type": "markdown",
      "source": [
        "# Agrupando os Dados de 2020 e 2021"
      ],
      "metadata": {
        "id": "kafbhK7oRIJx"
      }
    },
    {
      "cell_type": "code",
      "source": [
        "aportes = pd.concat([aportes_2020, aportes_2021], ignore_index=True)\n",
        "aportes.reset_index(inplace=True)\n",
        "aportes.drop(columns=['index'], inplace=True)"
      ],
      "metadata": {
        "id": "RxdXKZdWRMYB"
      },
      "execution_count": null,
      "outputs": []
    },
    {
      "cell_type": "code",
      "source": [
        "aportes"
      ],
      "metadata": {
        "colab": {
          "base_uri": "https://localhost:8080/",
          "height": 659
        },
        "id": "v9yGneRBW0jq",
        "outputId": "d441023a-18c3-47c2-90df-5692dee9e904"
      },
      "execution_count": null,
      "outputs": [
        {
          "output_type": "execute_result",
          "data": {
            "text/plain": [
              "                                            Investidores        Valor  \\\n",
              "0      Atsushi Taira, participation from Y Combinator...    3000000.0   \n",
              "1      Unusual Ventures, participation from Jason Cal...    4000000.0   \n",
              "2      Combine, Haystack Ventures, Homebrew, Shrug Ca...    4500000.0   \n",
              "3      Skip Capital, participation from Stride.VC, Al...    5000000.0   \n",
              "4      Tribeca Venture Partners, participation from H...    5000000.0   \n",
              "...                                                  ...          ...   \n",
              "11965  Jazz Venture Partners, participation from Cana...   30000000.0   \n",
              "11966  Craft Ventures, participation from HWVP, OMERS...   62000000.0   \n",
              "11967  Founders Circle Capital, Mindset Ventures, Chi...   67000000.0   \n",
              "11968  The Westly Group, participation from Thomvest ...  100000000.0   \n",
              "11969  Amber Group, participation from Jane Street, V...  175000000.0   \n",
              "\n",
              "      Rodada de Investimento         Empresa  Sede (Cidade)  \\\n",
              "0                       Seed   Kisan Network       Gurugram   \n",
              "1                          U        Kloud.io       San Jose   \n",
              "2                       Seed            Haus  Sonoma County   \n",
              "3                          U    Pando Health         London   \n",
              "4                          A         1Huddle         Newark   \n",
              "...                      ...             ...            ...   \n",
              "11965                      B  Sounding Board    Aliso Viejo   \n",
              "11966                      B            Klue      Vancouver   \n",
              "11967                      B        Hologram        Chicago   \n",
              "11968                      C       CyCognito      Palo Alto   \n",
              "11969                      B   1inch Network            NaN   \n",
              "\n",
              "      Sede (Estado-US/País)            Setor  \\\n",
              "0                     India           Agtech   \n",
              "1                        CA   Data/Analytics   \n",
              "2                        CA         Foodtech   \n",
              "3                        UK  Biotech/Healthy   \n",
              "4                        NJ       Enterprise   \n",
              "...                     ...              ...   \n",
              "11965                Calif.       Enterprise   \n",
              "11966                Canada       Enterprise   \n",
              "11967                  Ill.         Telecoms   \n",
              "11968                Calif.    Cybersecurity   \n",
              "11969               Tortola       Blockchain   \n",
              "\n",
              "                                         Sobre a Empresa       Mês   Ano  \n",
              "0      Integrated Supply Chain/Direct Selling Platfor...   Janeiro  2020  \n",
              "1      Data Preparation Platform To Save Time For Ana...   Janeiro  2020  \n",
              "2                                          Spirits Brand   Janeiro  2020  \n",
              "3                            Teamwork Tool In Healthcare   Janeiro  2020  \n",
              "4          Mobile Game-Based Employee Training Solutionn   Janeiro  2020  \n",
              "...                                                  ...       ...   ...  \n",
              "11965                       Leadership Coaching Platform  Dezembro  2021  \n",
              "11966         Ai-Powered Competitive Enablement Platform  Dezembro  2021  \n",
              "11967             Cellular Platform For Iot Connectivity  Dezembro  2021  \n",
              "11968                          Attack Surface Management  Dezembro  2021  \n",
              "11969              Aggregator Of Decentralized Protocols  Dezembro  2021  \n",
              "\n",
              "[11970 rows x 10 columns]"
            ],
            "text/html": [
              "\n",
              "  <div id=\"df-c732db7d-e3a8-41ed-bf07-0af453594715\">\n",
              "    <div class=\"colab-df-container\">\n",
              "      <div>\n",
              "<style scoped>\n",
              "    .dataframe tbody tr th:only-of-type {\n",
              "        vertical-align: middle;\n",
              "    }\n",
              "\n",
              "    .dataframe tbody tr th {\n",
              "        vertical-align: top;\n",
              "    }\n",
              "\n",
              "    .dataframe thead th {\n",
              "        text-align: right;\n",
              "    }\n",
              "</style>\n",
              "<table border=\"1\" class=\"dataframe\">\n",
              "  <thead>\n",
              "    <tr style=\"text-align: right;\">\n",
              "      <th></th>\n",
              "      <th>Investidores</th>\n",
              "      <th>Valor</th>\n",
              "      <th>Rodada de Investimento</th>\n",
              "      <th>Empresa</th>\n",
              "      <th>Sede (Cidade)</th>\n",
              "      <th>Sede (Estado-US/País)</th>\n",
              "      <th>Setor</th>\n",
              "      <th>Sobre a Empresa</th>\n",
              "      <th>Mês</th>\n",
              "      <th>Ano</th>\n",
              "    </tr>\n",
              "  </thead>\n",
              "  <tbody>\n",
              "    <tr>\n",
              "      <th>0</th>\n",
              "      <td>Atsushi Taira, participation from Y Combinator...</td>\n",
              "      <td>3000000.0</td>\n",
              "      <td>Seed</td>\n",
              "      <td>Kisan Network</td>\n",
              "      <td>Gurugram</td>\n",
              "      <td>India</td>\n",
              "      <td>Agtech</td>\n",
              "      <td>Integrated Supply Chain/Direct Selling Platfor...</td>\n",
              "      <td>Janeiro</td>\n",
              "      <td>2020</td>\n",
              "    </tr>\n",
              "    <tr>\n",
              "      <th>1</th>\n",
              "      <td>Unusual Ventures, participation from Jason Cal...</td>\n",
              "      <td>4000000.0</td>\n",
              "      <td>U</td>\n",
              "      <td>Kloud.io</td>\n",
              "      <td>San Jose</td>\n",
              "      <td>CA</td>\n",
              "      <td>Data/Analytics</td>\n",
              "      <td>Data Preparation Platform To Save Time For Ana...</td>\n",
              "      <td>Janeiro</td>\n",
              "      <td>2020</td>\n",
              "    </tr>\n",
              "    <tr>\n",
              "      <th>2</th>\n",
              "      <td>Combine, Haystack Ventures, Homebrew, Shrug Ca...</td>\n",
              "      <td>4500000.0</td>\n",
              "      <td>Seed</td>\n",
              "      <td>Haus</td>\n",
              "      <td>Sonoma County</td>\n",
              "      <td>CA</td>\n",
              "      <td>Foodtech</td>\n",
              "      <td>Spirits Brand</td>\n",
              "      <td>Janeiro</td>\n",
              "      <td>2020</td>\n",
              "    </tr>\n",
              "    <tr>\n",
              "      <th>3</th>\n",
              "      <td>Skip Capital, participation from Stride.VC, Al...</td>\n",
              "      <td>5000000.0</td>\n",
              "      <td>U</td>\n",
              "      <td>Pando Health</td>\n",
              "      <td>London</td>\n",
              "      <td>UK</td>\n",
              "      <td>Biotech/Healthy</td>\n",
              "      <td>Teamwork Tool In Healthcare</td>\n",
              "      <td>Janeiro</td>\n",
              "      <td>2020</td>\n",
              "    </tr>\n",
              "    <tr>\n",
              "      <th>4</th>\n",
              "      <td>Tribeca Venture Partners, participation from H...</td>\n",
              "      <td>5000000.0</td>\n",
              "      <td>A</td>\n",
              "      <td>1Huddle</td>\n",
              "      <td>Newark</td>\n",
              "      <td>NJ</td>\n",
              "      <td>Enterprise</td>\n",
              "      <td>Mobile Game-Based Employee Training Solutionn</td>\n",
              "      <td>Janeiro</td>\n",
              "      <td>2020</td>\n",
              "    </tr>\n",
              "    <tr>\n",
              "      <th>...</th>\n",
              "      <td>...</td>\n",
              "      <td>...</td>\n",
              "      <td>...</td>\n",
              "      <td>...</td>\n",
              "      <td>...</td>\n",
              "      <td>...</td>\n",
              "      <td>...</td>\n",
              "      <td>...</td>\n",
              "      <td>...</td>\n",
              "      <td>...</td>\n",
              "    </tr>\n",
              "    <tr>\n",
              "      <th>11965</th>\n",
              "      <td>Jazz Venture Partners, participation from Cana...</td>\n",
              "      <td>30000000.0</td>\n",
              "      <td>B</td>\n",
              "      <td>Sounding Board</td>\n",
              "      <td>Aliso Viejo</td>\n",
              "      <td>Calif.</td>\n",
              "      <td>Enterprise</td>\n",
              "      <td>Leadership Coaching Platform</td>\n",
              "      <td>Dezembro</td>\n",
              "      <td>2021</td>\n",
              "    </tr>\n",
              "    <tr>\n",
              "      <th>11966</th>\n",
              "      <td>Craft Ventures, participation from HWVP, OMERS...</td>\n",
              "      <td>62000000.0</td>\n",
              "      <td>B</td>\n",
              "      <td>Klue</td>\n",
              "      <td>Vancouver</td>\n",
              "      <td>Canada</td>\n",
              "      <td>Enterprise</td>\n",
              "      <td>Ai-Powered Competitive Enablement Platform</td>\n",
              "      <td>Dezembro</td>\n",
              "      <td>2021</td>\n",
              "    </tr>\n",
              "    <tr>\n",
              "      <th>11967</th>\n",
              "      <td>Founders Circle Capital, Mindset Ventures, Chi...</td>\n",
              "      <td>67000000.0</td>\n",
              "      <td>B</td>\n",
              "      <td>Hologram</td>\n",
              "      <td>Chicago</td>\n",
              "      <td>Ill.</td>\n",
              "      <td>Telecoms</td>\n",
              "      <td>Cellular Platform For Iot Connectivity</td>\n",
              "      <td>Dezembro</td>\n",
              "      <td>2021</td>\n",
              "    </tr>\n",
              "    <tr>\n",
              "      <th>11968</th>\n",
              "      <td>The Westly Group, participation from Thomvest ...</td>\n",
              "      <td>100000000.0</td>\n",
              "      <td>C</td>\n",
              "      <td>CyCognito</td>\n",
              "      <td>Palo Alto</td>\n",
              "      <td>Calif.</td>\n",
              "      <td>Cybersecurity</td>\n",
              "      <td>Attack Surface Management</td>\n",
              "      <td>Dezembro</td>\n",
              "      <td>2021</td>\n",
              "    </tr>\n",
              "    <tr>\n",
              "      <th>11969</th>\n",
              "      <td>Amber Group, participation from Jane Street, V...</td>\n",
              "      <td>175000000.0</td>\n",
              "      <td>B</td>\n",
              "      <td>1inch Network</td>\n",
              "      <td>NaN</td>\n",
              "      <td>Tortola</td>\n",
              "      <td>Blockchain</td>\n",
              "      <td>Aggregator Of Decentralized Protocols</td>\n",
              "      <td>Dezembro</td>\n",
              "      <td>2021</td>\n",
              "    </tr>\n",
              "  </tbody>\n",
              "</table>\n",
              "<p>11970 rows × 10 columns</p>\n",
              "</div>\n",
              "      <button class=\"colab-df-convert\" onclick=\"convertToInteractive('df-c732db7d-e3a8-41ed-bf07-0af453594715')\"\n",
              "              title=\"Convert this dataframe to an interactive table.\"\n",
              "              style=\"display:none;\">\n",
              "        \n",
              "  <svg xmlns=\"http://www.w3.org/2000/svg\" height=\"24px\"viewBox=\"0 0 24 24\"\n",
              "       width=\"24px\">\n",
              "    <path d=\"M0 0h24v24H0V0z\" fill=\"none\"/>\n",
              "    <path d=\"M18.56 5.44l.94 2.06.94-2.06 2.06-.94-2.06-.94-.94-2.06-.94 2.06-2.06.94zm-11 1L8.5 8.5l.94-2.06 2.06-.94-2.06-.94L8.5 2.5l-.94 2.06-2.06.94zm10 10l.94 2.06.94-2.06 2.06-.94-2.06-.94-.94-2.06-.94 2.06-2.06.94z\"/><path d=\"M17.41 7.96l-1.37-1.37c-.4-.4-.92-.59-1.43-.59-.52 0-1.04.2-1.43.59L10.3 9.45l-7.72 7.72c-.78.78-.78 2.05 0 2.83L4 21.41c.39.39.9.59 1.41.59.51 0 1.02-.2 1.41-.59l7.78-7.78 2.81-2.81c.8-.78.8-2.07 0-2.86zM5.41 20L4 18.59l7.72-7.72 1.47 1.35L5.41 20z\"/>\n",
              "  </svg>\n",
              "      </button>\n",
              "      \n",
              "  <style>\n",
              "    .colab-df-container {\n",
              "      display:flex;\n",
              "      flex-wrap:wrap;\n",
              "      gap: 12px;\n",
              "    }\n",
              "\n",
              "    .colab-df-convert {\n",
              "      background-color: #E8F0FE;\n",
              "      border: none;\n",
              "      border-radius: 50%;\n",
              "      cursor: pointer;\n",
              "      display: none;\n",
              "      fill: #1967D2;\n",
              "      height: 32px;\n",
              "      padding: 0 0 0 0;\n",
              "      width: 32px;\n",
              "    }\n",
              "\n",
              "    .colab-df-convert:hover {\n",
              "      background-color: #E2EBFA;\n",
              "      box-shadow: 0px 1px 2px rgba(60, 64, 67, 0.3), 0px 1px 3px 1px rgba(60, 64, 67, 0.15);\n",
              "      fill: #174EA6;\n",
              "    }\n",
              "\n",
              "    [theme=dark] .colab-df-convert {\n",
              "      background-color: #3B4455;\n",
              "      fill: #D2E3FC;\n",
              "    }\n",
              "\n",
              "    [theme=dark] .colab-df-convert:hover {\n",
              "      background-color: #434B5C;\n",
              "      box-shadow: 0px 1px 3px 1px rgba(0, 0, 0, 0.15);\n",
              "      filter: drop-shadow(0px 1px 2px rgba(0, 0, 0, 0.3));\n",
              "      fill: #FFFFFF;\n",
              "    }\n",
              "  </style>\n",
              "\n",
              "      <script>\n",
              "        const buttonEl =\n",
              "          document.querySelector('#df-c732db7d-e3a8-41ed-bf07-0af453594715 button.colab-df-convert');\n",
              "        buttonEl.style.display =\n",
              "          google.colab.kernel.accessAllowed ? 'block' : 'none';\n",
              "\n",
              "        async function convertToInteractive(key) {\n",
              "          const element = document.querySelector('#df-c732db7d-e3a8-41ed-bf07-0af453594715');\n",
              "          const dataTable =\n",
              "            await google.colab.kernel.invokeFunction('convertToInteractive',\n",
              "                                                     [key], {});\n",
              "          if (!dataTable) return;\n",
              "\n",
              "          const docLinkHtml = 'Like what you see? Visit the ' +\n",
              "            '<a target=\"_blank\" href=https://colab.research.google.com/notebooks/data_table.ipynb>data table notebook</a>'\n",
              "            + ' to learn more about interactive tables.';\n",
              "          element.innerHTML = '';\n",
              "          dataTable['output_type'] = 'display_data';\n",
              "          await google.colab.output.renderOutput(dataTable, element);\n",
              "          const docLink = document.createElement('div');\n",
              "          docLink.innerHTML = docLinkHtml;\n",
              "          element.appendChild(docLink);\n",
              "        }\n",
              "      </script>\n",
              "    </div>\n",
              "  </div>\n",
              "  "
            ]
          },
          "metadata": {},
          "execution_count": 116
        }
      ]
    },
    {
      "cell_type": "markdown",
      "source": [
        "# Gerando o Arquivo Final"
      ],
      "metadata": {
        "id": "9Y-UpUj5X6AQ"
      }
    },
    {
      "cell_type": "code",
      "source": [
        "aportes.to_excel('aportes_em_startups_2020_e_2021.xlsx', index=False)"
      ],
      "metadata": {
        "id": "ryDpK-nqIP30"
      },
      "execution_count": null,
      "outputs": []
    }
  ]
}